{
 "cells": [
  {
   "cell_type": "markdown",
   "metadata": {},
   "source": [
    "# 1. 패키지 설치"
   ]
  },
  {
   "cell_type": "code",
   "execution_count": 1,
   "metadata": {},
   "outputs": [
    {
     "name": "stdout",
     "output_type": "stream",
     "text": [
      "Requirement already satisfied: python-dotenv in c:\\users\\ha018\\appdata\\local\\programs\\python\\python310\\lib\\site-packages (1.0.1)\n",
      "Requirement already satisfied: langchain-upstage in c:\\users\\ha018\\appdata\\local\\programs\\python\\python310\\lib\\site-packages (0.3.0)\n",
      "Requirement already satisfied: requests<3.0.0,>=2.31.0 in c:\\users\\ha018\\appdata\\local\\programs\\python\\python310\\lib\\site-packages (from langchain-upstage) (2.32.3)\n",
      "Requirement already satisfied: langchain-openai<0.3,>=0.2 in c:\\users\\ha018\\appdata\\local\\programs\\python\\python310\\lib\\site-packages (from langchain-upstage) (0.2.0)\n",
      "Requirement already satisfied: langchain-core<0.4,>=0.3.0 in c:\\users\\ha018\\appdata\\local\\programs\\python\\python310\\lib\\site-packages (from langchain-upstage) (0.3.0)\n",
      "Requirement already satisfied: tokenizers<0.20.0,>=0.19.1 in c:\\users\\ha018\\appdata\\local\\programs\\python\\python310\\lib\\site-packages (from langchain-upstage) (0.19.1)\n",
      "Requirement already satisfied: pypdf<5.0.0,>=4.2.0 in c:\\users\\ha018\\appdata\\local\\programs\\python\\python310\\lib\\site-packages (from langchain-upstage) (4.3.1)\n",
      "Requirement already satisfied: pydantic<3.0.0,>=2.5.2 in c:\\users\\ha018\\appdata\\local\\programs\\python\\python310\\lib\\site-packages (from langchain-core<0.4,>=0.3.0->langchain-upstage) (2.9.1)\n",
      "Requirement already satisfied: tenacity!=8.4.0,<9.0.0,>=8.1.0 in c:\\users\\ha018\\appdata\\local\\programs\\python\\python310\\lib\\site-packages (from langchain-core<0.4,>=0.3.0->langchain-upstage) (8.5.0)\n",
      "Requirement already satisfied: PyYAML>=5.3 in c:\\users\\ha018\\appdata\\local\\programs\\python\\python310\\lib\\site-packages (from langchain-core<0.4,>=0.3.0->langchain-upstage) (6.0.2)\n",
      "Requirement already satisfied: packaging<25,>=23.2 in c:\\users\\ha018\\appdata\\local\\programs\\python\\python310\\lib\\site-packages (from langchain-core<0.4,>=0.3.0->langchain-upstage) (24.1)\n",
      "Requirement already satisfied: jsonpatch<2.0,>=1.33 in c:\\users\\ha018\\appdata\\local\\programs\\python\\python310\\lib\\site-packages (from langchain-core<0.4,>=0.3.0->langchain-upstage) (1.33)\n",
      "Requirement already satisfied: langsmith<0.2.0,>=0.1.117 in c:\\users\\ha018\\appdata\\local\\programs\\python\\python310\\lib\\site-packages (from langchain-core<0.4,>=0.3.0->langchain-upstage) (0.1.121)\n",
      "Requirement already satisfied: typing-extensions>=4.7 in c:\\users\\ha018\\appdata\\local\\programs\\python\\python310\\lib\\site-packages (from langchain-core<0.4,>=0.3.0->langchain-upstage) (4.12.2)\n",
      "Requirement already satisfied: openai<2.0.0,>=1.40.0 in c:\\users\\ha018\\appdata\\local\\programs\\python\\python310\\lib\\site-packages (from langchain-openai<0.3,>=0.2->langchain-upstage) (1.45.1)\n",
      "Requirement already satisfied: tiktoken<1,>=0.7 in c:\\users\\ha018\\appdata\\local\\programs\\python\\python310\\lib\\site-packages (from langchain-openai<0.3,>=0.2->langchain-upstage) (0.7.0)\n",
      "Requirement already satisfied: certifi>=2017.4.17 in c:\\users\\ha018\\appdata\\local\\programs\\python\\python310\\lib\\site-packages (from requests<3.0.0,>=2.31.0->langchain-upstage) (2024.8.30)\n",
      "Requirement already satisfied: urllib3<3,>=1.21.1 in c:\\users\\ha018\\appdata\\local\\programs\\python\\python310\\lib\\site-packages (from requests<3.0.0,>=2.31.0->langchain-upstage) (2.2.3)\n",
      "Requirement already satisfied: idna<4,>=2.5 in c:\\users\\ha018\\appdata\\local\\programs\\python\\python310\\lib\\site-packages (from requests<3.0.0,>=2.31.0->langchain-upstage) (3.10)\n",
      "Requirement already satisfied: charset-normalizer<4,>=2 in c:\\users\\ha018\\appdata\\local\\programs\\python\\python310\\lib\\site-packages (from requests<3.0.0,>=2.31.0->langchain-upstage) (3.3.2)\n",
      "Requirement already satisfied: huggingface-hub<1.0,>=0.16.4 in c:\\users\\ha018\\appdata\\local\\programs\\python\\python310\\lib\\site-packages (from tokenizers<0.20.0,>=0.19.1->langchain-upstage) (0.24.7)\n",
      "Requirement already satisfied: tqdm>=4.42.1 in c:\\users\\ha018\\appdata\\local\\programs\\python\\python310\\lib\\site-packages (from huggingface-hub<1.0,>=0.16.4->tokenizers<0.20.0,>=0.19.1->langchain-upstage) (4.66.5)\n",
      "Requirement already satisfied: filelock in c:\\users\\ha018\\appdata\\local\\programs\\python\\python310\\lib\\site-packages (from huggingface-hub<1.0,>=0.16.4->tokenizers<0.20.0,>=0.19.1->langchain-upstage) (3.16.0)\n",
      "Requirement already satisfied: fsspec>=2023.5.0 in c:\\users\\ha018\\appdata\\local\\programs\\python\\python310\\lib\\site-packages (from huggingface-hub<1.0,>=0.16.4->tokenizers<0.20.0,>=0.19.1->langchain-upstage) (2024.9.0)\n",
      "Requirement already satisfied: jsonpointer>=1.9 in c:\\users\\ha018\\appdata\\local\\programs\\python\\python310\\lib\\site-packages (from jsonpatch<2.0,>=1.33->langchain-core<0.4,>=0.3.0->langchain-upstage) (3.0.0)\n",
      "Requirement already satisfied: httpx<1,>=0.23.0 in c:\\users\\ha018\\appdata\\local\\programs\\python\\python310\\lib\\site-packages (from langsmith<0.2.0,>=0.1.117->langchain-core<0.4,>=0.3.0->langchain-upstage) (0.27.2)\n",
      "Requirement already satisfied: orjson<4.0.0,>=3.9.14 in c:\\users\\ha018\\appdata\\local\\programs\\python\\python310\\lib\\site-packages (from langsmith<0.2.0,>=0.1.117->langchain-core<0.4,>=0.3.0->langchain-upstage) (3.10.7)\n",
      "Requirement already satisfied: anyio<5,>=3.5.0 in c:\\users\\ha018\\appdata\\local\\programs\\python\\python310\\lib\\site-packages (from openai<2.0.0,>=1.40.0->langchain-openai<0.3,>=0.2->langchain-upstage) (4.4.0)\n",
      "Requirement already satisfied: jiter<1,>=0.4.0 in c:\\users\\ha018\\appdata\\local\\programs\\python\\python310\\lib\\site-packages (from openai<2.0.0,>=1.40.0->langchain-openai<0.3,>=0.2->langchain-upstage) (0.5.0)\n",
      "Requirement already satisfied: distro<2,>=1.7.0 in c:\\users\\ha018\\appdata\\local\\programs\\python\\python310\\lib\\site-packages (from openai<2.0.0,>=1.40.0->langchain-openai<0.3,>=0.2->langchain-upstage) (1.9.0)\n",
      "Requirement already satisfied: sniffio in c:\\users\\ha018\\appdata\\local\\programs\\python\\python310\\lib\\site-packages (from openai<2.0.0,>=1.40.0->langchain-openai<0.3,>=0.2->langchain-upstage) (1.3.1)\n",
      "Requirement already satisfied: annotated-types>=0.6.0 in c:\\users\\ha018\\appdata\\local\\programs\\python\\python310\\lib\\site-packages (from pydantic<3.0.0,>=2.5.2->langchain-core<0.4,>=0.3.0->langchain-upstage) (0.7.0)\n",
      "Requirement already satisfied: pydantic-core==2.23.3 in c:\\users\\ha018\\appdata\\local\\programs\\python\\python310\\lib\\site-packages (from pydantic<3.0.0,>=2.5.2->langchain-core<0.4,>=0.3.0->langchain-upstage) (2.23.3)\n",
      "Requirement already satisfied: regex>=2022.1.18 in c:\\users\\ha018\\appdata\\local\\programs\\python\\python310\\lib\\site-packages (from tiktoken<1,>=0.7->langchain-openai<0.3,>=0.2->langchain-upstage) (2024.9.11)\n",
      "Requirement already satisfied: exceptiongroup>=1.0.2 in c:\\users\\ha018\\appdata\\local\\programs\\python\\python310\\lib\\site-packages (from anyio<5,>=3.5.0->openai<2.0.0,>=1.40.0->langchain-openai<0.3,>=0.2->langchain-upstage) (1.2.2)\n",
      "Requirement already satisfied: httpcore==1.* in c:\\users\\ha018\\appdata\\local\\programs\\python\\python310\\lib\\site-packages (from httpx<1,>=0.23.0->langsmith<0.2.0,>=0.1.117->langchain-core<0.4,>=0.3.0->langchain-upstage) (1.0.5)\n",
      "Requirement already satisfied: h11<0.15,>=0.13 in c:\\users\\ha018\\appdata\\local\\programs\\python\\python310\\lib\\site-packages (from httpcore==1.*->httpx<1,>=0.23.0->langsmith<0.2.0,>=0.1.117->langchain-core<0.4,>=0.3.0->langchain-upstage) (0.14.0)\n",
      "Requirement already satisfied: colorama in c:\\users\\ha018\\appdata\\local\\programs\\python\\python310\\lib\\site-packages (from tqdm>=4.42.1->huggingface-hub<1.0,>=0.16.4->tokenizers<0.20.0,>=0.19.1->langchain-upstage) (0.4.6)\n",
      "Note: you may need to restart the kernel to use updated packages.\n"
     ]
    },
    {
     "name": "stderr",
     "output_type": "stream",
     "text": [
      "\n",
      "[notice] A new release of pip is available: 23.0.1 -> 24.2\n",
      "[notice] To update, run: python.exe -m pip install --upgrade pip\n"
     ]
    }
   ],
   "source": [
    "%pip install python-dotenv langchain-upstage"
   ]
  },
  {
   "cell_type": "markdown",
   "metadata": {},
   "source": [
    "# 2. 환경변수 불러오기\n",
    "\n",
    "- `.env` 파일에 `OPENAI_API_KEY` 등록"
   ]
  },
  {
   "cell_type": "code",
   "execution_count": 1,
   "metadata": {},
   "outputs": [
    {
     "data": {
      "text/plain": [
       "True"
      ]
     },
     "execution_count": 1,
     "metadata": {},
     "output_type": "execute_result"
    }
   ],
   "source": [
    "from dotenv import load_dotenv\n",
    "\n",
    "load_dotenv()"
   ]
  },
  {
   "cell_type": "markdown",
   "metadata": {},
   "source": [
    "# 3. LLM 답변 생성\n",
    "\n",
    "- Upstage Console에서 발급받은 API Key를 `UPSTAGE_API_KEY`라고 저장하면 별도의 설정 없이 `ChatUpstage`를 사용할 수 있음"
   ]
  },
  {
   "cell_type": "code",
   "execution_count": 2,
   "metadata": {},
   "outputs": [],
   "source": [
    "from langchain_upstage import ChatUpstage\n",
    "\n",
    "llm = ChatUpstage()"
   ]
  },
  {
   "cell_type": "code",
   "execution_count": 4,
   "metadata": {},
   "outputs": [],
   "source": [
    "ai_message = llm.invoke(\"인프런에 어떤 강의가 있나요?\")"
   ]
  },
  {
   "cell_type": "code",
   "execution_count": 3,
   "metadata": {},
   "outputs": [
    {
     "data": {
      "text/plain": [
       "'인프런(Inflearn)은 다양한 분야의 온라인 강의 플랫폼입니다. 현재 제공되는 강의 목록은 다음과 같습니다.\\n\\n* 프로그래밍 언어 강의: Python, Java, JavaScript, C++, HTML/CSS 등\\n* 웹 개발 강의: React, Node.js, Spring, Laravel 등\\n* 데이터베이스 강의: MySQL, MongoDB, PostgreSQL 등\\n* 데이터 분석 강의: Python 데이터 분석, R 데이터 분석, SQL 데이터 분석 등\\n* 머신러닝 강의: TensorFlow, PyTorch, scikit-learn 등\\n* 인공지능 강의: 딥러닝, 컴퓨터 비전, 자연어 처리 등\\n* 비즈니스 강의: 재무, 마케팅, 경영 전략 등\\n* 디자인 강의: 그래픽 디자인, 웹 디자인, UX/UI 디자인 등\\n* 라이프스타일 강의: 요리, 음악, 사진 등\\n* 자격증 강의: AWS, CCNA, CCNP 등\\n\\n이 외에도 다양한 분야의 강의가 제공되고 있으니, 인프런 웹사이트에서 자세한 정보를 확인하실 수 있습니다.'"
      ]
     },
     "execution_count": 3,
     "metadata": {},
     "output_type": "execute_result"
    }
   ],
   "source": [
    "ai_message.content"
   ]
  },
  {
   "cell_type": "code",
   "execution_count": null,
   "metadata": {},
   "outputs": [],
   "source": []
  }
 ],
 "metadata": {
  "kernelspec": {
   "display_name": "inflearn-llm-application",
   "language": "python",
   "name": "python3"
  },
  "language_info": {
   "codemirror_mode": {
    "name": "ipython",
    "version": 3
   },
   "file_extension": ".py",
   "mimetype": "text/x-python",
   "name": "python",
   "nbconvert_exporter": "python",
   "pygments_lexer": "ipython3",
   "version": "3.10.11"
  }
 },
 "nbformat": 4,
 "nbformat_minor": 2
}
